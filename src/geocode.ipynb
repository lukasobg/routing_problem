{
 "cells": [
  {
   "cell_type": "code",
   "execution_count": 6,
   "metadata": {},
   "outputs": [],
   "source": [
    "import pandas as pd\n",
    "from geopy.geocoders import Nominatim\n",
    "geolocator = Nominatim(user_agent=\"RoutingProblem\")"
   ]
  },
  {
   "cell_type": "code",
   "execution_count": 69,
   "metadata": {},
   "outputs": [],
   "source": [
    "df = pd.read_csv(\"data/areas.csv\")"
   ]
  },
  {
   "cell_type": "code",
   "execution_count": 70,
   "metadata": {},
   "outputs": [],
   "source": [
    "idx = []\n",
    "lats = []\n",
    "longs = []\n",
    "for i in df.index:\n",
    "    address = df['Area'][i]\n",
    "\n",
    "    loc = geolocator.geocode(address)\n",
    "    if loc:\n",
    "        idx.append(i)\n",
    "        lats.append(loc.latitude)\n",
    "        longs.append(loc.longitude)"
   ]
  },
  {
   "cell_type": "code",
   "execution_count": 71,
   "metadata": {},
   "outputs": [
    {
     "name": "stdout",
     "output_type": "stream",
     "text": [
      "74\n",
      "80\n"
     ]
    },
    {
     "data": {
      "text/html": [
       "<div>\n",
       "<style scoped>\n",
       "    .dataframe tbody tr th:only-of-type {\n",
       "        vertical-align: middle;\n",
       "    }\n",
       "\n",
       "    .dataframe tbody tr th {\n",
       "        vertical-align: top;\n",
       "    }\n",
       "\n",
       "    .dataframe thead th {\n",
       "        text-align: right;\n",
       "    }\n",
       "</style>\n",
       "<table border=\"1\" class=\"dataframe\">\n",
       "  <thead>\n",
       "    <tr style=\"text-align: right;\">\n",
       "      <th></th>\n",
       "      <th>Area</th>\n",
       "      <th>lat</th>\n",
       "      <th>long</th>\n",
       "    </tr>\n",
       "  </thead>\n",
       "  <tbody>\n",
       "    <tr>\n",
       "      <th>0</th>\n",
       "      <td>Helsingin keskusta</td>\n",
       "      <td>60.168741</td>\n",
       "      <td>24.940895</td>\n",
       "    </tr>\n",
       "    <tr>\n",
       "      <th>1</th>\n",
       "      <td>Punavuori</td>\n",
       "      <td>60.161237</td>\n",
       "      <td>24.936505</td>\n",
       "    </tr>\n",
       "    <tr>\n",
       "      <th>2</th>\n",
       "      <td>Kaartinkaupunki</td>\n",
       "      <td>60.165214</td>\n",
       "      <td>24.947222</td>\n",
       "    </tr>\n",
       "    <tr>\n",
       "      <th>3</th>\n",
       "      <td>Kaivopuisto</td>\n",
       "      <td>60.156843</td>\n",
       "      <td>24.956721</td>\n",
       "    </tr>\n",
       "    <tr>\n",
       "      <th>4</th>\n",
       "      <td>Eira</td>\n",
       "      <td>60.156191</td>\n",
       "      <td>24.938375</td>\n",
       "    </tr>\n",
       "  </tbody>\n",
       "</table>\n",
       "</div>"
      ],
      "text/plain": [
       "                 Area        lat       long\n",
       "0  Helsingin keskusta  60.168741  24.940895\n",
       "1           Punavuori  60.161237  24.936505\n",
       "2     Kaartinkaupunki  60.165214  24.947222\n",
       "3         Kaivopuisto  60.156843  24.956721\n",
       "4                Eira  60.156191  24.938375"
      ]
     },
     "execution_count": 71,
     "metadata": {},
     "output_type": "execute_result"
    }
   ],
   "source": [
    "print(len(idx))\n",
    "print(len(df))\n",
    "df.loc[idx,\"lat\"] = lats\n",
    "df.loc[idx,\"long\"] = longs\n",
    "dfcpy = df.dropna()\n",
    "dfcpy.head()"
   ]
  },
  {
   "cell_type": "code",
   "execution_count": 72,
   "metadata": {},
   "outputs": [],
   "source": [
    "dfcpy.to_csv(\"data/areas_latlong.csv\",index=False)"
   ]
  }
 ],
 "metadata": {
  "kernelspec": {
   "display_name": "systems_env",
   "language": "python",
   "name": "python3"
  },
  "language_info": {
   "codemirror_mode": {
    "name": "ipython",
    "version": 3
   },
   "file_extension": ".py",
   "mimetype": "text/x-python",
   "name": "python",
   "nbconvert_exporter": "python",
   "pygments_lexer": "ipython3",
   "version": "3.10.6"
  },
  "orig_nbformat": 4,
  "vscode": {
   "interpreter": {
    "hash": "f1f930975ac828fbc40357d42f7e83350e3a764465fc83c8d03df7f5f391cf1f"
   }
  }
 },
 "nbformat": 4,
 "nbformat_minor": 2
}
